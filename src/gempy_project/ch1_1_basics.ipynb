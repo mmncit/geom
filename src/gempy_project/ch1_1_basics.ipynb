{
 "cells": [
  {
   "cell_type": "code",
   "execution_count": null,
   "metadata": {
    "collapsed": false
   },
   "outputs": [
    {
     "name": "stdout",
     "output_type": "stream",
     "text": [
      "Requirement already satisfied: matplotlib in /Users/mamunrashid/.rye/py/cpython@3.12.8/lib/python3.12/site-packages (3.10.0)\n",
      "Collecting pyvista\n",
      "  Downloading pyvista-0.44.2-py3-none-any.whl.metadata (15 kB)\n",
      "Requirement already satisfied: numpy in /Users/mamunrashid/.rye/py/cpython@3.12.8/lib/python3.12/site-packages (2.2.1)\n",
      "Requirement already satisfied: contourpy>=1.0.1 in /Users/mamunrashid/.rye/py/cpython@3.12.8/lib/python3.12/site-packages (from matplotlib) (1.3.1)\n",
      "Requirement already satisfied: cycler>=0.10 in /Users/mamunrashid/.rye/py/cpython@3.12.8/lib/python3.12/site-packages (from matplotlib) (0.12.1)\n",
      "Requirement already satisfied: fonttools>=4.22.0 in /Users/mamunrashid/.rye/py/cpython@3.12.8/lib/python3.12/site-packages (from matplotlib) (4.55.3)\n",
      "Requirement already satisfied: kiwisolver>=1.3.1 in /Users/mamunrashid/.rye/py/cpython@3.12.8/lib/python3.12/site-packages (from matplotlib) (1.4.8)\n",
      "Requirement already satisfied: packaging>=20.0 in /Users/mamunrashid/.local/lib/python3.12/site-packages (from matplotlib) (24.2)\n",
      "Requirement already satisfied: pillow>=8 in /Users/mamunrashid/.rye/py/cpython@3.12.8/lib/python3.12/site-packages (from matplotlib) (11.0.0)\n",
      "Requirement already satisfied: pyparsing>=2.3.1 in /Users/mamunrashid/.rye/py/cpython@3.12.8/lib/python3.12/site-packages (from matplotlib) (3.2.0)\n",
      "Requirement already satisfied: python-dateutil>=2.7 in /Users/mamunrashid/.local/lib/python3.12/site-packages (from matplotlib) (2.9.0.post0)\n",
      "Collecting pooch (from pyvista)\n",
      "  Downloading pooch-1.8.2-py3-none-any.whl.metadata (10 kB)\n",
      "Collecting scooby>=0.5.1 (from pyvista)\n",
      "  Downloading scooby-0.10.0-py3-none-any.whl.metadata (15 kB)\n",
      "Collecting vtk<9.4.0 (from pyvista)\n",
      "  Downloading vtk-9.3.1-cp312-cp312-macosx_10_10_x86_64.whl.metadata (5.2 kB)\n",
      "Collecting typing-extensions (from pyvista)\n",
      "  Downloading typing_extensions-4.12.2-py3-none-any.whl.metadata (3.0 kB)\n",
      "Requirement already satisfied: six>=1.5 in /Users/mamunrashid/.local/lib/python3.12/site-packages (from python-dateutil>=2.7->matplotlib) (1.17.0)\n",
      "Requirement already satisfied: platformdirs>=2.5.0 in /Users/mamunrashid/.local/lib/python3.12/site-packages (from pooch->pyvista) (4.3.6)\n",
      "Collecting requests>=2.19.0 (from pooch->pyvista)\n",
      "  Downloading requests-2.32.3-py3-none-any.whl.metadata (4.6 kB)\n",
      "Collecting charset-normalizer<4,>=2 (from requests>=2.19.0->pooch->pyvista)\n",
      "  Downloading charset_normalizer-3.4.1-cp312-cp312-macosx_10_13_universal2.whl.metadata (35 kB)\n",
      "Collecting idna<4,>=2.5 (from requests>=2.19.0->pooch->pyvista)\n",
      "  Downloading idna-3.10-py3-none-any.whl.metadata (10 kB)\n",
      "Collecting urllib3<3,>=1.21.1 (from requests>=2.19.0->pooch->pyvista)\n",
      "  Downloading urllib3-2.3.0-py3-none-any.whl.metadata (6.5 kB)\n",
      "Collecting certifi>=2017.4.17 (from requests>=2.19.0->pooch->pyvista)\n",
      "  Downloading certifi-2024.12.14-py3-none-any.whl.metadata (2.3 kB)\n",
      "Downloading pyvista-0.44.2-py3-none-any.whl (2.2 MB)\n",
      "\u001b[2K   \u001b[90m━━━━━━━━━━━━━━━━━━━━━━━━━━━━━━━━━━━━━━━━\u001b[0m \u001b[32m2.2/2.2 MB\u001b[0m \u001b[31m2.5 MB/s\u001b[0m eta \u001b[36m0:00:00\u001b[0ma \u001b[36m0:00:01\u001b[0m\n",
      "\u001b[?25hDownloading scooby-0.10.0-py3-none-any.whl (18 kB)\n",
      "Downloading vtk-9.3.1-cp312-cp312-macosx_10_10_x86_64.whl (76.8 MB)\n",
      "\u001b[2K   \u001b[91m╸\u001b[0m\u001b[90m━━━━━━━━━━━━━━━━━━━━━━━━━━━━━━━━━━━━━━━\u001b[0m \u001b[32m1.0/76.8 MB\u001b[0m \u001b[31m3.0 MB/s\u001b[0m eta \u001b[36m0:00:25\u001b[0m"
     ]
    }
   ],
   "source": [
    "%pip install matplotlib pyvista numpy"
   ]
  },
  {
   "cell_type": "code",
   "execution_count": null,
   "metadata": {},
   "outputs": [],
   "source": [
    "%matplotlib inline\n",
    "from pyvista import set_plot_theme\n",
    "set_plot_theme('document')"
   ]
  },
  {
   "cell_type": "markdown",
   "metadata": {},
   "source": [
    "\n",
    "# 1.1 -Basics of geological modeling with GemPy\n"
   ]
  },
  {
   "cell_type": "code",
   "execution_count": 9,
   "metadata": {
    "collapsed": false
   },
   "outputs": [
    {
     "ename": "ModuleNotFoundError",
     "evalue": "No module named 'numpy'",
     "output_type": "error",
     "traceback": [
      "\u001b[0;31m---------------------------------------------------------------------------\u001b[0m",
      "\u001b[0;31mModuleNotFoundError\u001b[0m                       Traceback (most recent call last)",
      "Cell \u001b[0;32mIn[9], line 1\u001b[0m\n\u001b[0;32m----> 1\u001b[0m \u001b[38;5;28;01mimport\u001b[39;00m \u001b[38;5;21;01mnumpy\u001b[39;00m \u001b[38;5;28;01mas\u001b[39;00m \u001b[38;5;21;01mnp\u001b[39;00m\n",
      "\u001b[0;31mModuleNotFoundError\u001b[0m: No module named 'numpy'"
     ]
    }
   ],
   "source": [
    "import numpy as np"
   ]
  },
  {
   "cell_type": "markdown",
   "metadata": {},
   "source": [
    "## Importing Necessary Libraries\n",
    "\n"
   ]
  },
  {
   "cell_type": "code",
   "execution_count": null,
   "metadata": {
    "collapsed": false
   },
   "outputs": [],
   "source": [
    "import gempy as gp\n",
    "import gempy_viewer as gpv"
   ]
  },
  {
   "cell_type": "markdown",
   "metadata": {},
   "source": [
    "## Importing and Defining Input Data\n",
    ":obj:`gempy.core.data.GeoModel`\n",
    "GemPy uses Python objects to store the data that builds the geological model. The main data classes include:\n",
    "\n",
    "    -  :obj:`gempy.core.data.GeoModel`\n",
    "    -  :obj:`gempy.core.data.StructuralFrame`\n",
    "    -  :obj:`gempy.core.data.StructuralGroup`\n",
    "    -  :obj:`gempy.core.data.StructuralElement`\n",
    "    -  :obj:`gempy.core.data.SurfacePointsTable`\n",
    "    -  :obj:`gempy.core.data.OrientationsTable`\n",
    "    -  :obj:`gempy.core.data.Grid`\n",
    "\n",
    "You can also create data from raw CSV files (comma-separated values). This could be useful if you are exporting model data\n",
    "from a different program or creating it in a spreadsheet software like Microsoft Excel or LibreOffice Calc.\n",
    "\n",
    "In this tutorial, we'll use CSV files to generate input data. You can find these example files in the `gempy data`\n",
    "repository on GitHub. The data consists of x, y, and z positional values for all surface points and orientation\n",
    "measurements. Additional data includes poles, azimuth and polarity (or the gradient components). Surface points are\n",
    "assigned a formation, which can be a lithological unit (like \"Sandstone\") or a structural feature (like \"Main Fault\"). \n",
    "\n",
    "It's important to note that, in GemPy, interface position points mark the **bottom** of a layer. If you need points\n",
    "to represent the top of a formation (for example, when modeling an intrusion), you can define an inverted orientation measurement.\n",
    "\n",
    "While generating data from CSV files, we also need to define the model's real extent in x, y, and z. This extent\n",
    "defines the area used for interpolation and many of the plotting functions. We also set a resolution to establish a\n",
    "regular grid right away. This resolution will dictate the number of voxels used during modeling. We're using a medium\n",
    "resolution of 50x50x50 here, which results in 125,000 voxels. The model extent should enclose all relevant data in a\n",
    "representative space. As our model voxels are prisms rather than cubes, the resolution can differ from the extent.\n",
    "However, it is recommended to avoid going beyond 100 cells in each direction (1,000,000 voxels) to prevent excessive\n",
    "computational costs.\n",
    "\n",
    "\n",
    "\n"
   ]
  },
  {
   "cell_type": "code",
   "execution_count": null,
   "metadata": {
    "collapsed": false
   },
   "outputs": [],
   "source": [
    "data_path = 'https://raw.githubusercontent.com/cgre-aachen/gempy_data/master/'\n",
    "\n",
    "geo_model: gp.data.GeoModel = gp.create_geomodel(\n",
    "    project_name='Tutorial_ch1_1_Basics',\n",
    "    extent=[0, 2000, 0, 2000, 0, 750],\n",
    "    refinement=6,  # * Here we define the number of octree levels. If octree levels are defined, the resolution is ignored.\n",
    "    importer_helper=gp.data.ImporterHelper(\n",
    "        path_to_orientations=data_path + \"/data/input_data/getting_started/simple_fault_model_orientations.csv\",\n",
    "        path_to_surface_points=data_path + \"/data/input_data/getting_started/simple_fault_model_points.csv\",\n",
    "        hash_surface_points=\"4cdd54cd510cf345a583610585f2206a2936a05faaae05595b61febfc0191563\",\n",
    "        hash_orientations=\"7ba1de060fc8df668d411d0207a326bc94a6cdca9f5fe2ed511fd4db6b3f3526\"\n",
    "    )\n",
    ")"
   ]
  },
  {
   "cell_type": "markdown",
   "metadata": {},
   "source": [
    ".. admonition:: New in GemPy 3! \n",
    "\n",
    "   GemPy 3 has introduced the ``ImporterHelper`` class to streamline importing data from various sources. This class\n",
    "   simplifies the process of passing multiple arguments needed for importing data and will likely see further \n",
    "   extensions in the future. Currently, one of its uses is to handle `pooch` arguments for downloading data from the internet.\n",
    "\n",
    "\n",
    "\n",
    "## Reviewing the Imported Data\n",
    "Now that the `geo_model` object is set up and the data imported from the CSV files, we review the data imported using the properties `surface_points_copy` and `orientations_copy`.\n",
    "\n",
    "Using `structural_frame.element_id_name_map`, we can see which ID corresponds to which structural element name in the data.\n",
    "\n"
   ]
  },
  {
   "cell_type": "code",
   "execution_count": null,
   "metadata": {
    "collapsed": false
   },
   "outputs": [],
   "source": [
    "geo_model.surface_points_copy"
   ]
  },
  {
   "cell_type": "code",
   "execution_count": null,
   "metadata": {
    "collapsed": false
   },
   "outputs": [],
   "source": [
    "geo_model.orientations_copy"
   ]
  },
  {
   "cell_type": "markdown",
   "metadata": {},
   "source": [
    "## Declaring the Sequential Order of Structural Elements (Geological Formations)\n",
    "In our model, we want the geological units to appear in the correct chronological order. This order could be determined by a sequence\n",
    "of stratigraphic deposition, unconformities due to erosion, or other lithological genesis events like igneous intrusions. A similar\n",
    "age-related order is declared for faults in our model. In GemPy, we use the function `gempy.map_stack_to_surfaces` to assign formations\n",
    "or faults to different sequential series by declaring them in a Python dictionary.\n",
    "\n",
    "\n",
    "The correct ordering of series is crucial for model construction! It's possible to assign several surfaces to one series. The order of\n",
    "units within a series only affects the color code, so we recommend maintaining consistency. The order can be defined by simply changing\n",
    "the order of the lists within the `gempy.core.data.StructuralFrame.structural_groups` and `gempy.core.data.StructuralGroups.elements` attributes.\n",
    "\n",
    "Faults are treated as independent groups and must be younger than the groups they affect. The relative order between different faults\n",
    "defines their tectonic relationship (the first entry is the youngest).\n",
    "\n",
    "For a model with simple sequential stratigraphy, all layer formations can be assigned to one series without an issue. All unit\n",
    "boundaries and their order would then be determined by interface points. However, to model more complex lithostratigraphical\n",
    "relations and interactions, separate series definitions become important. For example, modeling an unconformity or an intrusion\n",
    "that disrupts older stratigraphy would require declaring a younger series.\n",
    "\n",
    "By default, a simple sequence/group is created inferred from the data as shown above.\n",
    "\n",
    "Our example model comprises four main layers (plus an underlying basement that is automatically generated by GemPy) and one main\n",
    "normal fault displacing those layers. Assuming a simple stratigraphy where each younger unit was deposited onto the underlying\n",
    "older one, we can assign these layer formations to one structural group called \"Strat_Series\". For the fault, we declare a\n",
    "respective \"Fault_Series\" as the first key entry in the mapping dictionary. We could give any other names to these series;\n",
    "the formations, however, have to be referred to as named in the input data.\n",
    "\n",
    "In the following, we map the \"Main Fault\" to the \"Fault Series\" and the individual formations to the \"Strat Series\".\n",
    "\n"
   ]
  },
  {
   "cell_type": "code",
   "execution_count": null,
   "metadata": {
    "collapsed": false
   },
   "outputs": [],
   "source": [
    "gp.map_stack_to_surfaces(\n",
    "    gempy_model=geo_model,\n",
    "    mapping_object=  # TODO: This mapping I do not like it too much. We should be able to do it passing the data objects directly\n",
    "    {\n",
    "            \"Fault_Series\": 'Main_Fault',\n",
    "            \"Strat_Series\": ('Sandstone_2', 'Siltstone', 'Shale', 'Sandstone_1')\n",
    "    }\n",
    ")"
   ]
  },
  {
   "cell_type": "markdown",
   "metadata": {},
   "source": [
    "Note how the structural frame still indicates the \"Fault Series\" group to have a relation type \"erode\".\n",
    "We still need to tell GemPy that we want this group to be a fault. We do this using the function `set_is_fault`.\n",
    "\n"
   ]
  },
  {
   "cell_type": "code",
   "execution_count": null,
   "metadata": {
    "collapsed": false
   },
   "outputs": [],
   "source": [
    "gp.set_is_fault(\n",
    "    frame=geo_model.structural_frame,\n",
    "    fault_groups=['Fault_Series']\n",
    ")"
   ]
  },
  {
   "cell_type": "markdown",
   "metadata": {},
   "source": [
    "Now, all surfaces have been assigned to a series and are displayed in the correct order \n",
    "(from young to old).\n",
    "\n",
    "### Returning Information from Our Input Data\n",
    "Our model input data, named \"geo_model\", contains all essential information for constructing \n",
    "our model. You can access different types of information by accessing the attributes.\n",
    "For instance, you can retrieve the coordinates of our modeling grid as follows:\n",
    "\n"
   ]
  },
  {
   "cell_type": "code",
   "execution_count": null,
   "metadata": {
    "collapsed": false
   },
   "outputs": [],
   "source": [
    "geo_model.grid"
   ]
  },
  {
   "cell_type": "markdown",
   "metadata": {},
   "source": [
    "### Visualizing input data\n",
    "\n",
    "Since we have already imported our input data, we can go ahead and visualize it in 2D and 3D. This can be useful to check if all points\n",
    "and orientations are defined the way we want them to be. Using the function `gempy_viewer.plot2d`, we obtain a 2D projection of our\n",
    "data points onto a plane of the chosen *direction* (we can choose this attribute to be either x, y or z, with the default being y).\n",
    "Below, we can freely switch the direction and check out the projection from different sides to get a good idea.\n",
    "\n"
   ]
  },
  {
   "cell_type": "code",
   "execution_count": null,
   "metadata": {
    "collapsed": false
   },
   "outputs": [],
   "source": [
    "plot = gpv.plot_2d(geo_model, show_lith=False, show_boundaries=False)"
   ]
  },
  {
   "cell_type": "markdown",
   "metadata": {},
   "source": [
    "Beyond 2D, however, we can also visualize our input data in full 3D using `gempy_viewer.plot_3d`. Note that direct 3D visualization\n",
    "in GemPy requires [the Visualization Toolkit](https://www.vtk.org/) (VTK) to be installed.\n",
    "\n"
   ]
  },
  {
   "cell_type": "code",
   "execution_count": null,
   "metadata": {
    "collapsed": false
   },
   "outputs": [],
   "source": [
    "gpv.plot_3d(geo_model, image=False, plotter_type='basic')"
   ]
  },
  {
   "cell_type": "markdown",
   "metadata": {},
   "source": [
    "### Model Generation\n",
    "Once we've correctly defined all our primary information in our `gempy.core.data.GeoModel` object (referred to as `geo_model`\n",
    "in these tutorials), we can proceed with the model computation step. We can go ahead and save the solution of a specific computation\n",
    "as we do below, but solutions are also stored within the `gempy.core.data.GeoModel` object for future reference.\n",
    "\n",
    "\n",
    ".. admonition:: New in GemPy 3!  Numpy and TensorFlow backend\n",
    "\n",
    "   Unlike previous versions, GemPy 3 doesn't rely on `theano` or `asera`. \n",
    "   Instead, it utilizes `numpy` or `tensorflow`. Consequently, we no longer need \n",
    "   to recompile all theano functions (TensorFlow uses eager execution; we found no \n",
    "   notable speed difference after profiling the XLA compiler).\n",
    "\n"
   ]
  },
  {
   "cell_type": "markdown",
   "metadata": {},
   "source": [
    "The parameters used for the interpolation are stored in \n",
    "`gempy.core.data.GeoModel.interpolation_options`. These parameters have sensible default values \n",
    "that you can modify if necessary. However, we advise caution when changing these parameters \n",
    "unless you fully understand their implications.\n",
    "\n"
   ]
  },
  {
   "cell_type": "markdown",
   "metadata": {},
   "source": [
    "Display the current interpolation options\n",
    "\n"
   ]
  },
  {
   "cell_type": "code",
   "execution_count": null,
   "metadata": {
    "collapsed": false
   },
   "outputs": [],
   "source": [
    "geo_model.interpolation_options"
   ]
  },
  {
   "cell_type": "markdown",
   "metadata": {},
   "source": [
    "With all our prerequisites in place, we can now compute our complete geological model \n",
    "using :func:`gempy.compute_model`. This function returns a :obj:`gempy.core.data.Solutions` object.\n",
    "\n",
    "The following sections illustrate these different model solutions and how to utilize them.\n",
    "\n"
   ]
  },
  {
   "cell_type": "markdown",
   "metadata": {},
   "source": [
    "Compute the geological model and get the solutions\n",
    "\n"
   ]
  },
  {
   "cell_type": "code",
   "execution_count": null,
   "metadata": {
    "collapsed": false
   },
   "outputs": [],
   "source": [
    "sol = gp.compute_model(geo_model)\n",
    "sol"
   ]
  },
  {
   "cell_type": "markdown",
   "metadata": {},
   "source": [
    "Solutions are also stored within the :obj:`gempy.core.data.GeoModel` object, for future reference.\n",
    "\n"
   ]
  },
  {
   "cell_type": "code",
   "execution_count": null,
   "metadata": {
    "collapsed": false
   },
   "outputs": [],
   "source": [
    "geo_model.solutions"
   ]
  },
  {
   "cell_type": "markdown",
   "metadata": {},
   "source": [
    "### Direct model visualization in GemPy\n",
    "\n",
    "Model solutions can be easily visualized in 2D sections in GemPy\n",
    "directly. Let's take a look at our lithology block:\n",
    "\n",
    "\n"
   ]
  },
  {
   "cell_type": "code",
   "execution_count": null,
   "metadata": {
    "collapsed": false
   },
   "outputs": [],
   "source": [
    "gpv.plot_2d(geo_model, show_data=True, cell_number=\"mid\", direction='y')"
   ]
  },
  {
   "cell_type": "markdown",
   "metadata": {},
   "source": [
    "With ``cell_number=mid``, we have chosen a section going through\n",
    "the middle of our block. We have moved in ``direction='y'``,\n",
    "the plot thus depicts a plane parallel to the $x$- and\n",
    "$y$-axes. Setting ``show_data=True``, we could plot original data\n",
    "together with the results. Changing the values for ``cell_number`` and\n",
    "``direction``, we can move through our 3D block model and explore it by\n",
    "looking at different 2D planes.\n",
    "\n",
    "We can do the same with the underlying scalar-field solution:\n",
    "\n",
    "\n"
   ]
  },
  {
   "cell_type": "code",
   "execution_count": null,
   "metadata": {
    "collapsed": false
   },
   "outputs": [],
   "source": [
    "gpv.plot_2d(\n",
    "    model=geo_model,\n",
    "    series_n=0,  # This will plot the scalar field used for the fault\n",
    "    show_data=False,\n",
    "    show_scalar=True,\n",
    "    show_lith=False\n",
    ")"
   ]
  },
  {
   "cell_type": "code",
   "execution_count": null,
   "metadata": {
    "collapsed": false
   },
   "outputs": [],
   "source": [
    "gpv.plot_2d(\n",
    "    model=geo_model,\n",
    "    series_n=1,  # This will plot the scalar field used for the stratigraphy\n",
    "    show_data=False,\n",
    "    show_scalar=True,\n",
    "    show_lith=False\n",
    ")"
   ]
  },
  {
   "cell_type": "markdown",
   "metadata": {},
   "source": [
    "### Dual Contouring and vtk visualization\n",
    "\n",
    "In addition to 2D sections we can extract surfaces to visualize in 3D\n",
    "renderers. Surfaces can be visualized as 3D triangle complexes in VTK\n",
    "(see function plot\\_surfaces\\_3D below). To create these triangles, we\n",
    "need to extract respective vertices and simplices from the potential\n",
    "fields of lithologies and faults. This process is automatized in GemPy\n",
    "using dual contouring in the :obj:`gempy_engine`.\n",
    "\n",
    ".. admonition:: New in GemPy 3! Dual Contouring\n",
    "\n",
    "   GemPy 3 uses dual contouring to extract surfaces from the scalar fields. The method is completely coded in :obj:`gempy_engine` what also\n",
    "   enables further improvements in the midterm. This method is more efficient to use\n",
    "   together with octrees and suited better the new capabilities of gempy3. \n",
    "\n"
   ]
  },
  {
   "cell_type": "code",
   "execution_count": null,
   "metadata": {
    "collapsed": false
   },
   "outputs": [],
   "source": [
    "gpv.plot_3d(geo_model, show_data=False, image=False, plotter_type='basic')"
   ]
  },
  {
   "cell_type": "markdown",
   "metadata": {},
   "source": [
    "### Adding topography\n",
    "In gempy we can add more grid types for different purposes. We will explore this concept in more detail in the\n",
    "next tutorials (:doc:`ch1_3a_grids`). For now, we will just add a topography grid to our model. This grid allows us to intersect the\n",
    "surfaces as well as compute a high resolution geological mal.\n",
    "\n"
   ]
  },
  {
   "cell_type": "code",
   "execution_count": null,
   "metadata": {
    "collapsed": false
   },
   "outputs": [],
   "source": [
    "gp.set_topography_from_random(\n",
    "    grid=geo_model.grid,\n",
    "    fractal_dimension=1.2,\n",
    "    d_z=np.array([350, 750]),\n",
    "    topography_resolution=np.array([50, 50]),\n",
    ")\n",
    "\n",
    "gp.compute_model(geo_model)\n",
    "gpv.plot_2d(geo_model, show_topography=True)\n",
    "\n",
    "gpv.plot_3d(\n",
    "    model=geo_model,\n",
    "    plotter_type='basic',\n",
    "    show_topography=True,\n",
    "    show_surfaces=True,\n",
    "    show_lith=True,\n",
    "    image=False\n",
    ")"
   ]
  },
  {
   "cell_type": "markdown",
   "metadata": {},
   "source": [
    "### Compute at a given location\n",
    "\n",
    "This is done by modifying the grid to a custom grid and recomputing.\n",
    "\n",
    "\n"
   ]
  },
  {
   "cell_type": "code",
   "execution_count": null,
   "metadata": {
    "collapsed": false
   },
   "outputs": [],
   "source": [
    "x_i = np.array([[1000, 1000, 1000]])\n",
    "lith_values_at_coords: np.ndarray = gp.compute_model_at(\n",
    "    gempy_model=geo_model,\n",
    "    at=x_i\n",
    ")\n",
    "lith_values_at_coords"
   ]
  },
  {
   "cell_type": "markdown",
   "metadata": {},
   "source": [
    "Therefore if we just want the value at **x\\_i**: \n",
    "\n"
   ]
  },
  {
   "cell_type": "code",
   "execution_count": null,
   "metadata": {
    "collapsed": false
   },
   "outputs": [],
   "source": [
    "geo_model.solutions.raw_arrays.custom"
   ]
  },
  {
   "cell_type": "markdown",
   "metadata": {},
   "source": [
    ".. admonition:: Work in progress \n",
    "\n",
    "  GemPy3 model serialization is currently being redisigned. Therefore, at the current version, there is not a build in\n",
    "  method to save the model. However, since now the data model should be completely robust, you should be able to save the\n",
    "  :obj:`gempy.core.data.GeoModel` and all its attributes using the standard python library [pickle](https://docs.python.org/3/library/pickle.html)\n",
    "\n",
    "sphinx_gallery_thumbnail_number = -2\n",
    "\n"
   ]
  }
 ],
 "metadata": {
  "kernelspec": {
   "display_name": "Python 3",
   "language": "python",
   "name": "python3"
  },
  "language_info": {
   "codemirror_mode": {
    "name": "ipython",
    "version": 3
   },
   "file_extension": ".py",
   "mimetype": "text/x-python",
   "name": "python",
   "nbconvert_exporter": "python",
   "pygments_lexer": "ipython3",
   "version": "3.12.8"
  }
 },
 "nbformat": 4,
 "nbformat_minor": 0
}
