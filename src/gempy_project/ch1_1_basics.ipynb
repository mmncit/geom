{
 "cells": [
  {
   "cell_type": "code",
   "execution_count": null,
   "metadata": {
    "collapsed": false
   },
   "outputs": [],
   "source": [
    "%pip install matplotlib pyvista numpy gempy gempy_viewer pandas"
   ]
  },
  {
   "cell_type": "code",
   "execution_count": 13,
   "metadata": {},
   "outputs": [],
   "source": [
    "%matplotlib inline\n",
    "from pyvista import set_plot_theme\n",
    "set_plot_theme('document')"
   ]
  },
  {
   "cell_type": "markdown",
   "metadata": {},
   "source": [
    "\n",
    "# 1.1 -Basics of geological modeling with GemPy\n"
   ]
  },
  {
   "cell_type": "code",
   "execution_count": 14,
   "metadata": {
    "collapsed": false
   },
   "outputs": [],
   "source": [
    "import numpy as np"
   ]
  },
  {
   "cell_type": "markdown",
   "metadata": {},
   "source": [
    "## Importing Necessary Libraries\n",
    "\n"
   ]
  },
  {
   "cell_type": "code",
   "execution_count": 16,
   "metadata": {
    "collapsed": false
   },
   "outputs": [
    {
     "name": "stdout",
     "output_type": "stream",
     "text": [
      "Setting Backend To: AvailableBackends.numpy\n"
     ]
    }
   ],
   "source": [
    "import gempy as gp\n",
    "import gempy_viewer as gpv"
   ]
  },
  {
   "cell_type": "markdown",
   "metadata": {},
   "source": [
    "## Importing and Defining Input Data\n",
    ":obj:`gempy.core.data.GeoModel`\n",
    "GemPy uses Python objects to store the data that builds the geological model. The main data classes include:\n",
    "\n",
    "    -  :obj:`gempy.core.data.GeoModel`\n",
    "    -  :obj:`gempy.core.data.StructuralFrame`\n",
    "    -  :obj:`gempy.core.data.StructuralGroup`\n",
    "    -  :obj:`gempy.core.data.StructuralElement`\n",
    "    -  :obj:`gempy.core.data.SurfacePointsTable`\n",
    "    -  :obj:`gempy.core.data.OrientationsTable`\n",
    "    -  :obj:`gempy.core.data.Grid`\n",
    "\n",
    "You can also create data from raw CSV files (comma-separated values). This could be useful if you are exporting model data\n",
    "from a different program or creating it in a spreadsheet software like Microsoft Excel or LibreOffice Calc.\n",
    "\n",
    "In this tutorial, we'll use CSV files to generate input data. You can find these example files in the `gempy data`\n",
    "repository on GitHub. The data consists of x, y, and z positional values for all surface points and orientation\n",
    "measurements. Additional data includes poles, azimuth and polarity (or the gradient components). Surface points are\n",
    "assigned a formation, which can be a lithological unit (like \"Sandstone\") or a structural feature (like \"Main Fault\"). \n",
    "\n",
    "It's important to note that, in GemPy, interface position points mark the **bottom** of a layer. If you need points\n",
    "to represent the top of a formation (for example, when modeling an intrusion), you can define an inverted orientation measurement.\n",
    "\n",
    "While generating data from CSV files, we also need to define the model's real extent in x, y, and z. This extent\n",
    "defines the area used for interpolation and many of the plotting functions. We also set a resolution to establish a\n",
    "regular grid right away. This resolution will dictate the number of voxels used during modeling. We're using a medium\n",
    "resolution of 50x50x50 here, which results in 125,000 voxels. The model extent should enclose all relevant data in a\n",
    "representative space. As our model voxels are prisms rather than cubes, the resolution can differ from the extent.\n",
    "However, it is recommended to avoid going beyond 100 cells in each direction (1,000,000 voxels) to prevent excessive\n",
    "computational costs.\n",
    "\n",
    "\n",
    "\n"
   ]
  },
  {
   "cell_type": "code",
   "execution_count": 19,
   "metadata": {
    "collapsed": false
   },
   "outputs": [
    {
     "name": "stdout",
     "output_type": "stream",
     "text": [
      "Surface points hash:  4cdd54cd510cf345a583610585f2206a2936a05faaae05595b61febfc0191563\n",
      "Orientations hash:  7ba1de060fc8df668d411d0207a326bc94a6cdca9f5fe2ed511fd4db6b3f3526\n"
     ]
    }
   ],
   "source": [
    "data_path = 'https://raw.githubusercontent.com/cgre-aachen/gempy_data/master/'\n",
    "\n",
    "geo_model: gp.data.GeoModel = gp.create_geomodel(\n",
    "    project_name='Tutorial_ch1_1_Basics',\n",
    "    extent=[0, 2000, 0, 2000, 0, 750],\n",
    "    refinement=6,  # * Here we define the number of octree levels. If octree levels are defined, the resolution is ignored.\n",
    "    importer_helper=gp.data.ImporterHelper(\n",
    "        path_to_orientations=data_path + \"/data/input_data/getting_started/simple_fault_model_orientations.csv\",\n",
    "        path_to_surface_points=data_path + \"/data/input_data/getting_started/simple_fault_model_points.csv\",\n",
    "        hash_surface_points=\"4cdd54cd510cf345a583610585f2206a2936a05faaae05595b61febfc0191563\",\n",
    "        hash_orientations=\"7ba1de060fc8df668d411d0207a326bc94a6cdca9f5fe2ed511fd4db6b3f3526\"\n",
    "    )\n",
    ")"
   ]
  },
  {
   "cell_type": "markdown",
   "metadata": {},
   "source": [
    ".. admonition:: New in GemPy 3! \n",
    "\n",
    "   GemPy 3 has introduced the ``ImporterHelper`` class to streamline importing data from various sources. This class\n",
    "   simplifies the process of passing multiple arguments needed for importing data and will likely see further \n",
    "   extensions in the future. Currently, one of its uses is to handle `pooch` arguments for downloading data from the internet.\n",
    "\n",
    "\n",
    "\n",
    "## Reviewing the Imported Data\n",
    "Now that the `geo_model` object is set up and the data imported from the CSV files, we review the data imported using the properties `surface_points_copy` and `orientations_copy`.\n",
    "\n",
    "Using `structural_frame.element_id_name_map`, we can see which ID corresponds to which structural element name in the data.\n",
    "\n"
   ]
  },
  {
   "cell_type": "code",
   "execution_count": 20,
   "metadata": {
    "collapsed": false
   },
   "outputs": [
    {
     "data": {
      "text/html": [
       "<table><tr><th>X</th><th>Y</th><th>Z</th><th>id</th><th>nugget</th></tr><tr><td>700.00</td><td>1000.00</td><td>300.00</td><td>79502525</td><td>0.00</td></tr><tr><td>600.00</td><td>1000.00</td><td>200.00</td><td>79502525</td><td>0.00</td></tr><tr><td>500.00</td><td>1000.00</td><td>100.00</td><td>79502525</td><td>0.00</td></tr><tr><td>1000.00</td><td>1000.00</td><td>600.00</td><td>79502525</td><td>0.00</td></tr><tr><td>1100.00</td><td>1000.00</td><td>700.00</td><td>79502525</td><td>0.00</td></tr><tr><td>1000.00</td><td>50.00</td><td>350.00</td><td>121524033</td><td>0.00</td></tr><tr><td>1000.00</td><td>150.00</td><td>333.33</td><td>121524033</td><td>0.00</td></tr><tr><td>1000.00</td><td>300.00</td><td>333.33</td><td>121524033</td><td>0.00</td></tr><tr><td>1000.00</td><td>500.00</td><td>366.67</td><td>121524033</td><td>0.00</td></tr><tr><td>1000.00</td><td>1000.00</td><td>433.33</td><td>121524033</td><td>0.00</td></tr><tr><td>...</td><td>...</td><td>...</td><td>...</td><td>...</td></tr><tr><td>1100.00</td><td>1700.00</td><td>473.33</td><td>405223867</td><td>0.00</td></tr><tr><td>1100.00</td><td>1950.00</td><td>490.00</td><td>405223867</td><td>0.00</td></tr><tr><td>0.00</td><td>1000.00</td><td>433.33</td><td>405223867</td><td>0.00</td></tr><tr><td>300.00</td><td>1000.00</td><td>400.00</td><td>405223867</td><td>0.00</td></tr><tr><td>600.00</td><td>1000.00</td><td>366.67</td><td>405223867</td><td>0.00</td></tr><tr><td>1300.00</td><td>1000.00</td><td>566.67</td><td>405223867</td><td>0.00</td></tr><tr><td>1600.00</td><td>1000.00</td><td>550.00</td><td>405223867</td><td>0.00</td></tr><tr><td>1900.00</td><td>1000.00</td><td>566.67</td><td>405223867</td><td>0.00</td></tr><tr><td>1700.00</td><td>500.00</td><td>533.33</td><td>405223867</td><td>0.00</td></tr><tr><td>1700.00</td><td>1500.00</td><td>516.67</td><td>405223867</td><td>0.00</td></tr></table>"
      ],
      "text/plain": [
       "SurfacePointsTable(data=\n",
       "[( 700., 1000., 300.  ,  79502525, 0.),\n",
       " ( 600., 1000., 200.  ,  79502525, 0.),\n",
       " ( 500., 1000., 100.  ,  79502525, 0.),\n",
       " (1000., 1000., 600.  ,  79502525, 0.),\n",
       " (1100., 1000., 700.  ,  79502525, 0.),\n",
       " (1000.,   50., 350.  , 121524033, 0.),\n",
       " (1000.,  150., 333.33, 121524033, 0.),\n",
       " (1000.,  300., 333.33, 121524033, 0.),\n",
       " (1000.,  500., 366.67, 121524033, 0.),\n",
       " (1000., 1000., 433.33, 121524033, 0.),\n",
       " (1000., 1500., 333.33, 121524033, 0.),\n",
       " (1000., 1700., 300.  , 121524033, 0.),\n",
       " (1000., 1950., 316.67, 121524033, 0.),\n",
       " (   0., 1000., 266.67, 121524033, 0.),\n",
       " ( 300., 1000., 233.33, 121524033, 0.),\n",
       " (1300., 1000., 400.  , 121524033, 0.),\n",
       " (1600., 1000., 383.33, 121524033, 0.),\n",
       " (1900., 1000., 400.  , 121524033, 0.),\n",
       " (1700.,  500., 366.67, 121524033, 0.),\n",
       " (1700., 1500., 350.  , 121524033, 0.),\n",
       " (   0., 1000., 500.  , 248547961, 0.),\n",
       " ( 300., 1000., 466.67, 248547961, 0.),\n",
       " ( 600., 1000., 433.33, 248547961, 0.),\n",
       " (1300., 1000., 633.33, 248547961, 0.),\n",
       " (1600., 1000., 616.67, 248547961, 0.),\n",
       " (1900., 1000., 633.33, 248547961, 0.),\n",
       " (1700.,  500., 600.  , 248547961, 0.),\n",
       " (1700., 1500., 583.33, 248547961, 0.),\n",
       " (1000.,   50., 450.  , 356250615, 0.),\n",
       " (1000.,  150., 433.33, 356250615, 0.),\n",
       " (1000.,  300., 433.33, 356250615, 0.),\n",
       " (1000.,  500., 466.67, 356250615, 0.),\n",
       " (1000., 1000., 533.33, 356250615, 0.),\n",
       " (1000., 1500., 433.33, 356250615, 0.),\n",
       " (1000., 1700., 400.  , 356250615, 0.),\n",
       " (1000., 1950., 416.67, 356250615, 0.),\n",
       " (   0., 1000., 366.67, 356250615, 0.),\n",
       " ( 300., 1000., 333.33, 356250615, 0.),\n",
       " ( 450., 1000., 316.67, 356250615, 0.),\n",
       " (1300., 1000., 500.  , 356250615, 0.),\n",
       " (1600., 1000., 483.33, 356250615, 0.),\n",
       " (1900., 1000., 500.  , 356250615, 0.),\n",
       " (1700.,  500., 466.67, 356250615, 0.),\n",
       " (1700., 1500., 450.  , 356250615, 0.),\n",
       " (1100.,  150., 506.67, 405223867, 0.),\n",
       " (1100.,  300., 506.67, 405223867, 0.),\n",
       " (1100., 1500., 506.67, 405223867, 0.),\n",
       " (1100., 1700., 473.33, 405223867, 0.),\n",
       " (1100., 1950., 490.  , 405223867, 0.),\n",
       " (   0., 1000., 433.33, 405223867, 0.),\n",
       " ( 300., 1000., 400.  , 405223867, 0.),\n",
       " ( 600., 1000., 366.67, 405223867, 0.),\n",
       " (1300., 1000., 566.67, 405223867, 0.),\n",
       " (1600., 1000., 550.  , 405223867, 0.),\n",
       " (1900., 1000., 566.67, 405223867, 0.),\n",
       " (1700.,  500., 533.33, 405223867, 0.),\n",
       " (1700., 1500., 516.67, 405223867, 0.)],\n",
       "name_id_map={'Main_Fault': np.int32(79502525), 'Sandstone_1': np.int32(121524033), 'Sandstone_2': np.int32(248547961), 'Shale': np.int32(356250615), 'Siltstone': np.int32(405223867), 'basement': 82574218})"
      ]
     },
     "execution_count": 20,
     "metadata": {},
     "output_type": "execute_result"
    }
   ],
   "source": [
    "geo_model.surface_points_copy"
   ]
  },
  {
   "cell_type": "code",
   "execution_count": 21,
   "metadata": {
    "collapsed": false
   },
   "outputs": [
    {
     "data": {
      "text/html": [
       "<table><tr><th>X</th><th>Y</th><th>Z</th><th>G_x</th><th>G_y</th><th>G_z</th><th>id</th><th>nugget</th></tr><tr><td>500.00</td><td>1000.00</td><td>300.00</td><td>-0.95</td><td>-0.00</td><td>0.32</td><td>79502525</td><td>0.01</td></tr><tr><td>400.00</td><td>1000.00</td><td>420.00</td><td>0.32</td><td>0.00</td><td>0.95</td><td>248547961</td><td>0.01</td></tr><tr><td>1000.00</td><td>1000.00</td><td>300.00</td><td>0.32</td><td>0.00</td><td>0.95</td><td>356250615</td><td>0.01</td></tr></table>"
      ],
      "text/plain": [
       "OrientationsTable(data=\n",
       "[( 500., 1000., 300., -0.95, -0., 0.32,  79502525, 0.01),\n",
       " ( 400., 1000., 420.,  0.32,  0., 0.95, 248547961, 0.01),\n",
       " (1000., 1000., 300.,  0.32,  0., 0.95, 356250615, 0.01)],\n",
       "name_id_map=None)"
      ]
     },
     "execution_count": 21,
     "metadata": {},
     "output_type": "execute_result"
    }
   ],
   "source": [
    "geo_model.orientations_copy"
   ]
  },
  {
   "cell_type": "markdown",
   "metadata": {},
   "source": [
    "## Declaring the Sequential Order of Structural Elements (Geological Formations)\n",
    "In our model, we want the geological units to appear in the correct chronological order. This order could be determined by a sequence\n",
    "of stratigraphic deposition, unconformities due to erosion, or other lithological genesis events like igneous intrusions. A similar\n",
    "age-related order is declared for faults in our model. In GemPy, we use the function `gempy.map_stack_to_surfaces` to assign formations\n",
    "or faults to different sequential series by declaring them in a Python dictionary.\n",
    "\n",
    "\n",
    "The correct ordering of series is crucial for model construction! It's possible to assign several surfaces to one series. The order of\n",
    "units within a series only affects the color code, so we recommend maintaining consistency. The order can be defined by simply changing\n",
    "the order of the lists within the `gempy.core.data.StructuralFrame.structural_groups` and `gempy.core.data.StructuralGroups.elements` attributes.\n",
    "\n",
    "Faults are treated as independent groups and must be younger than the groups they affect. The relative order between different faults\n",
    "defines their tectonic relationship (the first entry is the youngest).\n",
    "\n",
    "For a model with simple sequential stratigraphy, all layer formations can be assigned to one series without an issue. All unit\n",
    "boundaries and their order would then be determined by interface points. However, to model more complex lithostratigraphical\n",
    "relations and interactions, separate series definitions become important. For example, modeling an unconformity or an intrusion\n",
    "that disrupts older stratigraphy would require declaring a younger series.\n",
    "\n",
    "By default, a simple sequence/group is created inferred from the data as shown above.\n",
    "\n",
    "Our example model comprises four main layers (plus an underlying basement that is automatically generated by GemPy) and one main\n",
    "normal fault displacing those layers. Assuming a simple stratigraphy where each younger unit was deposited onto the underlying\n",
    "older one, we can assign these layer formations to one structural group called \"Strat_Series\". For the fault, we declare a\n",
    "respective \"Fault_Series\" as the first key entry in the mapping dictionary. We could give any other names to these series;\n",
    "the formations, however, have to be referred to as named in the input data.\n",
    "\n",
    "In the following, we map the \"Main Fault\" to the \"Fault Series\" and the individual formations to the \"Strat Series\".\n",
    "\n"
   ]
  },
  {
   "cell_type": "code",
   "execution_count": 22,
   "metadata": {
    "collapsed": false
   },
   "outputs": [
    {
     "data": {
      "text/html": [
       "\n",
       "        <table>\n",
       "          <tr><td>Structural Groups:</td><td>\n",
       "    <table style=\"border-left:1.2px solid black;>\n",
       "      <tr><th colspan=\"2\"><b>StructuralGroup:</b></th></tr>\n",
       "      <tr><td>Name:</td><td>Fault_Series</td></tr>\n",
       "      <tr><td>Structural Relation:</td><td>StackRelationType.ERODE</td></tr>\n",
       "      <tr><td>Elements:</td><td>\n",
       "    <table width=\"50%\" style=\"border-left:15px solid #015482;\">\n",
       "      <tr><th colspan=\"2\"><b>StructuralElement:</b></th></tr>\n",
       "      <tr><td>Name:</td><td>Main_Fault</td></tr>\n",
       "    </table>\n",
       "        </td></tr>\n",
       "    </table>\n",
       "        <br>\n",
       "    <table style=\"border-left:1.2px solid black;>\n",
       "      <tr><th colspan=\"2\"><b>StructuralGroup:</b></th></tr>\n",
       "      <tr><td>Name:</td><td>Strat_Series</td></tr>\n",
       "      <tr><td>Structural Relation:</td><td>StackRelationType.ERODE</td></tr>\n",
       "      <tr><td>Elements:</td><td>\n",
       "    <table width=\"50%\" style=\"border-left:15px solid #ffbe00;\">\n",
       "      <tr><th colspan=\"2\"><b>StructuralElement:</b></th></tr>\n",
       "      <tr><td>Name:</td><td>Sandstone_2</td></tr>\n",
       "    </table>\n",
       "        <br>\n",
       "    <table width=\"50%\" style=\"border-left:15px solid #443988;\">\n",
       "      <tr><th colspan=\"2\"><b>StructuralElement:</b></th></tr>\n",
       "      <tr><td>Name:</td><td>Siltstone</td></tr>\n",
       "    </table>\n",
       "        <br>\n",
       "    <table width=\"50%\" style=\"border-left:15px solid #728f02;\">\n",
       "      <tr><th colspan=\"2\"><b>StructuralElement:</b></th></tr>\n",
       "      <tr><td>Name:</td><td>Shale</td></tr>\n",
       "    </table>\n",
       "        <br>\n",
       "    <table width=\"50%\" style=\"border-left:15px solid #9f0052;\">\n",
       "      <tr><th colspan=\"2\"><b>StructuralElement:</b></th></tr>\n",
       "      <tr><td>Name:</td><td>Sandstone_1</td></tr>\n",
       "    </table>\n",
       "        </td></tr>\n",
       "    </table>\n",
       "        </td></tr>\n",
       "          <tr><td>Fault Relations:</td><td><table style=\"border-collapse: collapse; table-layout: fixed;\"><th></th><th style=\"transform: rotate(-35deg); height:150px; vertical-align: bottom; text-align: center;\">Fault_Seri...</th><th style=\"transform: rotate(-35deg); height:150px; vertical-align: bottom; text-align: center;\">Strat_Seri...</th><tr><th>Fault_Series</th><td style=\"background-color: #FFB6C1; width: 20px; height: 20px; border: 1px solid black;\"></td><td style=\"background-color: #FFB6C1; width: 20px; height: 20px; border: 1px solid black;\"></td></tr><tr><th>Strat_Series</th><td style=\"background-color: #FFB6C1; width: 20px; height: 20px; border: 1px solid black;\"></td><td style=\"background-color: #FFB6C1; width: 20px; height: 20px; border: 1px solid black;\"></td></tr></table></td></tr>\n",
       "          <tr><td></td><td>\n",
       "        <table>\n",
       "          <tr>\n",
       "            <td><div style=\"display: inline-block; background-color: #527682; width: 20px; height: 20px; border: 1px solid black;\"></div> True</td>\n",
       "            <td><div style=\"display: inline-block; background-color: #FFB6C1; width: 20px; height: 20px; border: 1px solid black;\"></div> False</td>\n",
       "          </tr>\n",
       "        </table>\n",
       "        </td></tr>\n",
       "        </table>\n",
       "        "
      ],
      "text/plain": [
       "StructuralFrame(\n",
       "\tstructural_groups=[\n",
       "StructuralGroup(\n",
       "\tname=Fault_Series,\n",
       "\tstructural_relation=StackRelationType.ERODE,\n",
       "\telements=[\n",
       "Element(\n",
       "\tname=Main_Fault,\n",
       "\tcolor=\u001b[38;2;1;84;130m#015482\u001b[0m,\n",
       "\tis_active=True\n",
       ")\n",
       "]\n",
       "),\n",
       "StructuralGroup(\n",
       "\tname=Strat_Series,\n",
       "\tstructural_relation=StackRelationType.ERODE,\n",
       "\telements=[\n",
       "Element(\n",
       "\tname=Sandstone_2,\n",
       "\tcolor=\u001b[38;2;255;190;0m#ffbe00\u001b[0m,\n",
       "\tis_active=True\n",
       "),\n",
       "Element(\n",
       "\tname=Siltstone,\n",
       "\tcolor=\u001b[38;2;68;57;136m#443988\u001b[0m,\n",
       "\tis_active=True\n",
       "),\n",
       "Element(\n",
       "\tname=Shale,\n",
       "\tcolor=\u001b[38;2;114;143;2m#728f02\u001b[0m,\n",
       "\tis_active=True\n",
       "),\n",
       "Element(\n",
       "\tname=Sandstone_1,\n",
       "\tcolor=\u001b[38;2;159;0;82m#9f0052\u001b[0m,\n",
       "\tis_active=True\n",
       ")\n",
       "]\n",
       ")\n",
       "],\n",
       "\tfault_relations=\n",
       "[[False, False],\n",
       " [False, False]],"
      ]
     },
     "execution_count": 22,
     "metadata": {},
     "output_type": "execute_result"
    }
   ],
   "source": [
    "gp.map_stack_to_surfaces(\n",
    "    gempy_model=geo_model,\n",
    "    mapping_object=  # TODO: This mapping I do not like it too much. We should be able to do it passing the data objects directly\n",
    "    {\n",
    "            \"Fault_Series\": 'Main_Fault',\n",
    "            \"Strat_Series\": ('Sandstone_2', 'Siltstone', 'Shale', 'Sandstone_1')\n",
    "    }\n",
    ")"
   ]
  },
  {
   "cell_type": "markdown",
   "metadata": {},
   "source": [
    "Note how the structural frame still indicates the \"Fault Series\" group to have a relation type \"erode\".\n",
    "We still need to tell GemPy that we want this group to be a fault. We do this using the function `set_is_fault`.\n",
    "\n"
   ]
  },
  {
   "cell_type": "code",
   "execution_count": 23,
   "metadata": {
    "collapsed": false
   },
   "outputs": [
    {
     "data": {
      "text/html": [
       "\n",
       "        <table>\n",
       "          <tr><td>Structural Groups:</td><td>\n",
       "    <table style=\"border-left:1.2px solid black;>\n",
       "      <tr><th colspan=\"2\"><b>StructuralGroup:</b></th></tr>\n",
       "      <tr><td>Name:</td><td>Fault_Series</td></tr>\n",
       "      <tr><td>Structural Relation:</td><td>StackRelationType.FAULT</td></tr>\n",
       "      <tr><td>Elements:</td><td>\n",
       "    <table width=\"50%\" style=\"border-left:15px solid #527682;\">\n",
       "      <tr><th colspan=\"2\"><b>StructuralElement:</b></th></tr>\n",
       "      <tr><td>Name:</td><td>Main_Fault</td></tr>\n",
       "    </table>\n",
       "        </td></tr>\n",
       "    </table>\n",
       "        <br>\n",
       "    <table style=\"border-left:1.2px solid black;>\n",
       "      <tr><th colspan=\"2\"><b>StructuralGroup:</b></th></tr>\n",
       "      <tr><td>Name:</td><td>Strat_Series</td></tr>\n",
       "      <tr><td>Structural Relation:</td><td>StackRelationType.ERODE</td></tr>\n",
       "      <tr><td>Elements:</td><td>\n",
       "    <table width=\"50%\" style=\"border-left:15px solid #ffbe00;\">\n",
       "      <tr><th colspan=\"2\"><b>StructuralElement:</b></th></tr>\n",
       "      <tr><td>Name:</td><td>Sandstone_2</td></tr>\n",
       "    </table>\n",
       "        <br>\n",
       "    <table width=\"50%\" style=\"border-left:15px solid #443988;\">\n",
       "      <tr><th colspan=\"2\"><b>StructuralElement:</b></th></tr>\n",
       "      <tr><td>Name:</td><td>Siltstone</td></tr>\n",
       "    </table>\n",
       "        <br>\n",
       "    <table width=\"50%\" style=\"border-left:15px solid #728f02;\">\n",
       "      <tr><th colspan=\"2\"><b>StructuralElement:</b></th></tr>\n",
       "      <tr><td>Name:</td><td>Shale</td></tr>\n",
       "    </table>\n",
       "        <br>\n",
       "    <table width=\"50%\" style=\"border-left:15px solid #9f0052;\">\n",
       "      <tr><th colspan=\"2\"><b>StructuralElement:</b></th></tr>\n",
       "      <tr><td>Name:</td><td>Sandstone_1</td></tr>\n",
       "    </table>\n",
       "        </td></tr>\n",
       "    </table>\n",
       "        </td></tr>\n",
       "          <tr><td>Fault Relations:</td><td><table style=\"border-collapse: collapse; table-layout: fixed;\"><th></th><th style=\"transform: rotate(-35deg); height:150px; vertical-align: bottom; text-align: center;\">Fault_Seri...</th><th style=\"transform: rotate(-35deg); height:150px; vertical-align: bottom; text-align: center;\">Strat_Seri...</th><tr><th>Fault_Series</th><td style=\"background-color: #FFB6C1; width: 20px; height: 20px; border: 1px solid black;\"></td><td style=\"background-color: #527682; width: 20px; height: 20px; border: 1px solid black;\"></td></tr><tr><th>Strat_Series</th><td style=\"background-color: #FFB6C1; width: 20px; height: 20px; border: 1px solid black;\"></td><td style=\"background-color: #FFB6C1; width: 20px; height: 20px; border: 1px solid black;\"></td></tr></table></td></tr>\n",
       "          <tr><td></td><td>\n",
       "        <table>\n",
       "          <tr>\n",
       "            <td><div style=\"display: inline-block; background-color: #527682; width: 20px; height: 20px; border: 1px solid black;\"></div> True</td>\n",
       "            <td><div style=\"display: inline-block; background-color: #FFB6C1; width: 20px; height: 20px; border: 1px solid black;\"></div> False</td>\n",
       "          </tr>\n",
       "        </table>\n",
       "        </td></tr>\n",
       "        </table>\n",
       "        "
      ],
      "text/plain": [
       "StructuralFrame(\n",
       "\tstructural_groups=[\n",
       "StructuralGroup(\n",
       "\tname=Fault_Series,\n",
       "\tstructural_relation=StackRelationType.FAULT,\n",
       "\telements=[\n",
       "Element(\n",
       "\tname=Main_Fault,\n",
       "\tcolor=\u001b[38;2;82;118;130m#527682\u001b[0m,\n",
       "\tis_active=True\n",
       ")\n",
       "]\n",
       "),\n",
       "StructuralGroup(\n",
       "\tname=Strat_Series,\n",
       "\tstructural_relation=StackRelationType.ERODE,\n",
       "\telements=[\n",
       "Element(\n",
       "\tname=Sandstone_2,\n",
       "\tcolor=\u001b[38;2;255;190;0m#ffbe00\u001b[0m,\n",
       "\tis_active=True\n",
       "),\n",
       "Element(\n",
       "\tname=Siltstone,\n",
       "\tcolor=\u001b[38;2;68;57;136m#443988\u001b[0m,\n",
       "\tis_active=True\n",
       "),\n",
       "Element(\n",
       "\tname=Shale,\n",
       "\tcolor=\u001b[38;2;114;143;2m#728f02\u001b[0m,\n",
       "\tis_active=True\n",
       "),\n",
       "Element(\n",
       "\tname=Sandstone_1,\n",
       "\tcolor=\u001b[38;2;159;0;82m#9f0052\u001b[0m,\n",
       "\tis_active=True\n",
       ")\n",
       "]\n",
       ")\n",
       "],\n",
       "\tfault_relations=\n",
       "[[False,  True],\n",
       " [False, False]],"
      ]
     },
     "execution_count": 23,
     "metadata": {},
     "output_type": "execute_result"
    }
   ],
   "source": [
    "gp.set_is_fault(\n",
    "    frame=geo_model.structural_frame,\n",
    "    fault_groups=['Fault_Series']\n",
    ")"
   ]
  },
  {
   "cell_type": "markdown",
   "metadata": {},
   "source": [
    "Now, all surfaces have been assigned to a series and are displayed in the correct order \n",
    "(from young to old).\n",
    "\n",
    "### Returning Information from Our Input Data\n",
    "Our model input data, named \"geo_model\", contains all essential information for constructing \n",
    "our model. You can access different types of information by accessing the attributes.\n",
    "For instance, you can retrieve the coordinates of our modeling grid as follows:\n",
    "\n"
   ]
  },
  {
   "cell_type": "code",
   "execution_count": 24,
   "metadata": {
    "collapsed": false
   },
   "outputs": [
    {
     "data": {
      "text/plain": [
       "Grid(values=array([[  15.625   ,   15.625   ,    5.859375],\n",
       "       [  15.625   ,   15.625   ,   17.578125],\n",
       "       [  15.625   ,   15.625   ,   29.296875],\n",
       "       ...,\n",
       "       [1984.375   , 1984.375   ,  720.703125],\n",
       "       [1984.375   , 1984.375   ,  732.421875],\n",
       "       [1984.375   , 1984.375   ,  744.140625]], shape=(262144, 3)), length=array([], dtype=float64), _octree_grid=RegularGrid(resolution=array([64, 64, 64]), extent=array([   0., 2000.,    0., 2000.,    0.,  750.]), values=array([[  15.625   ,   15.625   ,    5.859375],\n",
       "       [  15.625   ,   15.625   ,   17.578125],\n",
       "       [  15.625   ,   15.625   ,   29.296875],\n",
       "       ...,\n",
       "       [1984.375   , 1984.375   ,  720.703125],\n",
       "       [1984.375   , 1984.375   ,  732.421875],\n",
       "       [1984.375   , 1984.375   ,  744.140625]], shape=(262144, 3)), mask_topo=array([], shape=(0, 3), dtype=bool), _transform=None), _dense_grid=None, _custom_grid=None, _topography=None, _sections=None, _centered_grid=None, _transform=None, _octree_levels=-1)"
      ]
     },
     "execution_count": 24,
     "metadata": {},
     "output_type": "execute_result"
    }
   ],
   "source": [
    "geo_model.grid"
   ]
  },
  {
   "cell_type": "markdown",
   "metadata": {},
   "source": [
    "### Visualizing input data\n",
    "\n",
    "Since we have already imported our input data, we can go ahead and visualize it in 2D and 3D. This can be useful to check if all points\n",
    "and orientations are defined the way we want them to be. Using the function `gempy_viewer.plot2d`, we obtain a 2D projection of our\n",
    "data points onto a plane of the chosen *direction* (we can choose this attribute to be either x, y or z, with the default being y).\n",
    "Below, we can freely switch the direction and check out the projection from different sides to get a good idea.\n",
    "\n"
   ]
  },
  {
   "cell_type": "code",
   "execution_count": 25,
   "metadata": {
    "collapsed": false
   },
   "outputs": [
    {
     "name": "stderr",
     "output_type": "stream",
     "text": [
      "/Users/mamunrashid/.rye/py/cpython@3.12.8/lib/python3.12/site-packages/gempy_viewer/API/_plot_2d_API.py:174: UserWarning: FigureCanvasAgg is non-interactive, and thus cannot be shown\n",
      "  p.fig.show()\n"
     ]
    },
    {
     "data": {
      "image/png": "[encoded data removed]",
      "text/plain": [
       "<Figure size 1040x715 with 1 Axes>"
      ]
     },
     "metadata": {},
     "output_type": "display_data"
    }
   ],
   "source": [
    "plot = gpv.plot_2d(geo_model, show_lith=False, show_boundaries=False)"
   ]
  },
  {
   "cell_type": "markdown",
   "metadata": {},
   "source": [
    "Beyond 2D, however, we can also visualize our input data in full 3D using `gempy_viewer.plot_3d`. Note that direct 3D visualization\n",
    "in GemPy requires [the Visualization Toolkit](https://www.vtk.org/) (VTK) to be installed.\n",
    "\n"
   ]
  },
  {
   "cell_type": "code",
   "execution_count": null,
   "metadata": {
    "collapsed": false
   },
   "outputs": [],
   "source": [
    "gpv.plot_3d(geo_model, image=False, plotter_type='basic')"
   ]
  },
  {
   "cell_type": "markdown",
   "metadata": {},
   "source": [
    "### Model Generation\n",
    "Once we've correctly defined all our primary information in our `gempy.core.data.GeoModel` object (referred to as `geo_model`\n",
    "in these tutorials), we can proceed with the model computation step. We can go ahead and save the solution of a specific computation\n",
    "as we do below, but solutions are also stored within the `gempy.core.data.GeoModel` object for future reference.\n",
    "\n",
    "\n",
    ".. admonition:: New in GemPy 3!  Numpy and TensorFlow backend\n",
    "\n",
    "   Unlike previous versions, GemPy 3 doesn't rely on `theano` or `asera`. \n",
    "   Instead, it utilizes `numpy` or `tensorflow`. Consequently, we no longer need \n",
    "   to recompile all theano functions (TensorFlow uses eager execution; we found no \n",
    "   notable speed difference after profiling the XLA compiler).\n",
    "\n"
   ]
  },
  {
   "cell_type": "markdown",
   "metadata": {},
   "source": [
    "The parameters used for the interpolation are stored in \n",
    "`gempy.core.data.GeoModel.interpolation_options`. These parameters have sensible default values \n",
    "that you can modify if necessary. However, we advise caution when changing these parameters \n",
    "unless you fully understand their implications.\n",
    "\n"
   ]
  },
  {
   "cell_type": "markdown",
   "metadata": {},
   "source": [
    "Display the current interpolation options\n",
    "\n"
   ]
  },
  {
   "cell_type": "code",
   "execution_count": null,
   "metadata": {
    "collapsed": false
   },
   "outputs": [],
   "source": [
    "geo_model.interpolation_options"
   ]
  },
  {
   "cell_type": "markdown",
   "metadata": {},
   "source": [
    "With all our prerequisites in place, we can now compute our complete geological model \n",
    "using :func:`gempy.compute_model`. This function returns a :obj:`gempy.core.data.Solutions` object.\n",
    "\n",
    "The following sections illustrate these different model solutions and how to utilize them.\n",
    "\n"
   ]
  },
  {
   "cell_type": "markdown",
   "metadata": {},
   "source": [
    "Compute the geological model and get the solutions\n",
    "\n"
   ]
  },
  {
   "cell_type": "code",
   "execution_count": null,
   "metadata": {
    "collapsed": false
   },
   "outputs": [],
   "source": [
    "sol = gp.compute_model(geo_model)\n",
    "sol"
   ]
  },
  {
   "cell_type": "markdown",
   "metadata": {},
   "source": [
    "Solutions are also stored within the :obj:`gempy.core.data.GeoModel` object, for future reference.\n",
    "\n"
   ]
  },
  {
   "cell_type": "code",
   "execution_count": null,
   "metadata": {
    "collapsed": false
   },
   "outputs": [],
   "source": [
    "geo_model.solutions"
   ]
  },
  {
   "cell_type": "markdown",
   "metadata": {},
   "source": [
    "### Direct model visualization in GemPy\n",
    "\n",
    "Model solutions can be easily visualized in 2D sections in GemPy\n",
    "directly. Let's take a look at our lithology block:\n",
    "\n",
    "\n"
   ]
  },
  {
   "cell_type": "code",
   "execution_count": null,
   "metadata": {
    "collapsed": false
   },
   "outputs": [],
   "source": [
    "gpv.plot_2d(geo_model, show_data=True, cell_number=\"mid\", direction='y')"
   ]
  },
  {
   "cell_type": "markdown",
   "metadata": {},
   "source": [
    "With ``cell_number=mid``, we have chosen a section going through\n",
    "the middle of our block. We have moved in ``direction='y'``,\n",
    "the plot thus depicts a plane parallel to the $x$- and\n",
    "$y$-axes. Setting ``show_data=True``, we could plot original data\n",
    "together with the results. Changing the values for ``cell_number`` and\n",
    "``direction``, we can move through our 3D block model and explore it by\n",
    "looking at different 2D planes.\n",
    "\n",
    "We can do the same with the underlying scalar-field solution:\n",
    "\n",
    "\n"
   ]
  },
  {
   "cell_type": "code",
   "execution_count": null,
   "metadata": {
    "collapsed": false
   },
   "outputs": [],
   "source": [
    "gpv.plot_2d(\n",
    "    model=geo_model,\n",
    "    series_n=0,  # This will plot the scalar field used for the fault\n",
    "    show_data=False,\n",
    "    show_scalar=True,\n",
    "    show_lith=False\n",
    ")"
   ]
  },
  {
   "cell_type": "code",
   "execution_count": null,
   "metadata": {
    "collapsed": false
   },
   "outputs": [],
   "source": [
    "gpv.plot_2d(\n",
    "    model=geo_model,\n",
    "    series_n=1,  # This will plot the scalar field used for the stratigraphy\n",
    "    show_data=False,\n",
    "    show_scalar=True,\n",
    "    show_lith=False\n",
    ")"
   ]
  },
  {
   "cell_type": "markdown",
   "metadata": {},
   "source": [
    "### Dual Contouring and vtk visualization\n",
    "\n",
    "In addition to 2D sections we can extract surfaces to visualize in 3D\n",
    "renderers. Surfaces can be visualized as 3D triangle complexes in VTK\n",
    "(see function plot\\_surfaces\\_3D below). To create these triangles, we\n",
    "need to extract respective vertices and simplices from the potential\n",
    "fields of lithologies and faults. This process is automatized in GemPy\n",
    "using dual contouring in the :obj:`gempy_engine`.\n",
    "\n",
    ".. admonition:: New in GemPy 3! Dual Contouring\n",
    "\n",
    "   GemPy 3 uses dual contouring to extract surfaces from the scalar fields. The method is completely coded in :obj:`gempy_engine` what also\n",
    "   enables further improvements in the midterm. This method is more efficient to use\n",
    "   together with octrees and suited better the new capabilities of gempy3. \n",
    "\n"
   ]
  },
  {
   "cell_type": "code",
   "execution_count": null,
   "metadata": {
    "collapsed": false
   },
   "outputs": [],
   "source": [
    "gpv.plot_3d(geo_model, show_data=False, image=False, plotter_type='basic')"
   ]
  },
  {
   "cell_type": "markdown",
   "metadata": {},
   "source": [
    "### Adding topography\n",
    "In gempy we can add more grid types for different purposes. We will explore this concept in more detail in the\n",
    "next tutorials (:doc:`ch1_3a_grids`). For now, we will just add a topography grid to our model. This grid allows us to intersect the\n",
    "surfaces as well as compute a high resolution geological mal.\n",
    "\n"
   ]
  },
  {
   "cell_type": "code",
   "execution_count": null,
   "metadata": {
    "collapsed": false
   },
   "outputs": [],
   "source": [
    "gp.set_topography_from_random(\n",
    "    grid=geo_model.grid,\n",
    "    fractal_dimension=1.2,\n",
    "    d_z=np.array([350, 750]),\n",
    "    topography_resolution=np.array([50, 50]),\n",
    ")\n",
    "\n",
    "gp.compute_model(geo_model)\n",
    "gpv.plot_2d(geo_model, show_topography=True)\n",
    "\n",
    "gpv.plot_3d(\n",
    "    model=geo_model,\n",
    "    plotter_type='basic',\n",
    "    show_topography=True,\n",
    "    show_surfaces=True,\n",
    "    show_lith=True,\n",
    "    image=False\n",
    ")"
   ]
  },
  {
   "cell_type": "markdown",
   "metadata": {},
   "source": [
    "### Compute at a given location\n",
    "\n",
    "This is done by modifying the grid to a custom grid and recomputing.\n",
    "\n",
    "\n"
   ]
  },
  {
   "cell_type": "code",
   "execution_count": null,
   "metadata": {
    "collapsed": false
   },
   "outputs": [],
   "source": [
    "x_i = np.array([[1000, 1000, 1000]])\n",
    "lith_values_at_coords: np.ndarray = gp.compute_model_at(\n",
    "    gempy_model=geo_model,\n",
    "    at=x_i\n",
    ")\n",
    "lith_values_at_coords"
   ]
  },
  {
   "cell_type": "markdown",
   "metadata": {},
   "source": [
    "Therefore if we just want the value at **x\\_i**: \n",
    "\n"
   ]
  },
  {
   "cell_type": "code",
   "execution_count": null,
   "metadata": {
    "collapsed": false
   },
   "outputs": [],
   "source": [
    "geo_model.solutions.raw_arrays.custom"
   ]
  },
  {
   "cell_type": "markdown",
   "metadata": {},
   "source": [
    ".. admonition:: Work in progress \n",
    "\n",
    "  GemPy3 model serialization is currently being redisigned. Therefore, at the current version, there is not a build in\n",
    "  method to save the model. However, since now the data model should be completely robust, you should be able to save the\n",
    "  :obj:`gempy.core.data.GeoModel` and all its attributes using the standard python library [pickle](https://docs.python.org/3/library/pickle.html)\n",
    "\n",
    "sphinx_gallery_thumbnail_number = -2\n",
    "\n"
   ]
  }
 ],
 "metadata": {
  "kernelspec": {
   "display_name": "Python 3",
   "language": "python",
   "name": "python3"
  },
  "language_info": {
   "codemirror_mode": {
    "name": "ipython",
    "version": 3
   },
   "file_extension": ".py",
   "mimetype": "text/x-python",
   "name": "python",
   "nbconvert_exporter": "python",
   "pygments_lexer": "ipython3",
   "version": "3.12.8"
  }
 },
 "nbformat": 4,
 "nbformat_minor": 0
}
